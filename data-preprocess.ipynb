{
 "cells": [
  {
   "cell_type": "code",
   "execution_count": 38,
   "id": "0778c0f3",
   "metadata": {},
   "outputs": [
    {
     "name": "stdout",
     "output_type": "stream",
     "text": [
      "df_pavement shape: (5404, 8)\n",
      "   Year Road Name               From Street    To Street  length_(m)  \\\n",
      "0  2021  41ST AVE              INVERNESS ST    KNIGHT ST          50   \n",
      "1  2021   1ST AVE  EB STOP BAR AT RUPERT ST  BOUNDARY RD          23   \n",
      "2  2021  70TH AVE              GRANVILLE ST       OAK ST          50   \n",
      "3  2021  41ST AVE     EB STOP BAR AT OAK ST    CAMBIE ST          17   \n",
      "4  2021  41ST AVE              ELIZABETH ST   ONTARIO ST          50   \n",
      "\n",
      "  PCI Rating                                               Geom  \\\n",
      "0  VERY GOOD  {\"coordinates\": [[-123.07838380768405, 49.2329...   \n",
      "1       GOOD  {\"coordinates\": [[-123.02815341343262, 49.2696...   \n",
      "2       FAIR  {\"coordinates\": [[-123.13662344615086, 49.2087...   \n",
      "3       POOR  {\"coordinates\": [[-123.12709955449826, 49.2341...   \n",
      "4       GOOD  {\"coordinates\": [[-123.10790069282442, 49.2334...   \n",
      "\n",
      "                             geo_point_2d  \n",
      "0   49.23292472825609, -123.0780404833506  \n",
      "1  49.26965794731753, -123.02799533101047  \n",
      "2  49.20875852405103, -123.13628028141345  \n",
      "3   49.23410514922833, -123.1269829655127  \n",
      "4  49.23342668175193, -123.10755754785265  \n",
      "df_pavement shape after dropping NA values: (5241, 8)\n"
     ]
    }
   ],
   "source": [
    "import pandas as pd\n",
    "import numpy as np\n",
    "import scipy.stats as stats\n",
    "\n",
    "# some columns have bad lines, so need to skip them to avoid errors and csv data columns are separated by semicolons\n",
    "df_pavement = pd.read_csv('datasets/pavement-conditions.csv', delimiter = ';', on_bad_lines='skip') \n",
    "print(f\"df_pavement shape: {df_pavement.shape}\")\n",
    "print(df_pavement.head())\n",
    "\n",
    "# drop rows with NA values\n",
    "df_pavement = df_pavement.dropna()\n",
    "print(f\"df_pavement shape after dropping NA values: {df_pavement.shape}\")\n"
   ]
  },
  {
   "cell_type": "code",
   "execution_count": 39,
   "id": "98286fcc",
   "metadata": {},
   "outputs": [
    {
     "name": "stdout",
     "output_type": "stream",
     "text": [
      "df_streetlights shape: (57826, 5)\n",
      "  BLOCK_NUMBER  NODE_NUMBER  \\\n",
      "0           16          7.0   \n",
      "1           00          3.0   \n",
      "2           16          5.0   \n",
      "3           16          1.0   \n",
      "4           01         10.0   \n",
      "\n",
      "                                                Geom  Geo Local Area  \\\n",
      "0  {\"coordinates\": [-123.10673362076686, 49.27101...  Mount Pleasant   \n",
      "1  {\"coordinates\": [-123.10483921238884, 49.27157...  Mount Pleasant   \n",
      "2  {\"coordinates\": [-123.10943535431262, 49.27131...  Mount Pleasant   \n",
      "3  {\"coordinates\": [-123.10671288716351, 49.27146...  Mount Pleasant   \n",
      "4  {\"coordinates\": [-123.1087427926331, 49.270941...  Mount Pleasant   \n",
      "\n",
      "                             geo_point_2d  \n",
      "0  49.27101067488828, -123.10673362076686  \n",
      "1  49.27157217121716, -123.10483921238884  \n",
      "2  49.27131634994912, -123.10943535431262  \n",
      "3  49.27146149718467, -123.10671288716351  \n",
      "4   49.27094122057411, -123.1087427926331  \n",
      "df_streetlights shape after dropping NA values: (57514, 5)\n"
     ]
    }
   ],
   "source": [
    "df_streetlights = pd.read_csv('datasets/street-lighting-poles.csv', delimiter = ';', on_bad_lines='skip') \n",
    "print(f\"df_streetlights shape: {df_streetlights.shape}\")\n",
    "print(df_streetlights.head())\n",
    "df_streetlights = df_streetlights.dropna()\n",
    "print(f\"df_streetlights shape after dropping NA values: {df_streetlights.shape}\")"
   ]
  },
  {
   "cell_type": "code",
   "execution_count": null,
   "id": "cb92b769",
   "metadata": {},
   "outputs": [
    {
     "name": "stdout",
     "output_type": "stream",
     "text": [
      "df_construction shape: (32, 7)\n",
      "                                                Geom  \\\n",
      "0  {\"coordinates\": [[[-123.0617835739591, 49.2747...   \n",
      "1  {\"coordinates\": [[[-123.13493790065316, 49.202...   \n",
      "2  {\"coordinates\": [[[-123.11567257611512, 49.280...   \n",
      "3  {\"coordinates\": [[[-123.1383628127809, 49.2687...   \n",
      "4  {\"coordinates\": [[[-123.07705842977934, 49.216...   \n",
      "\n",
      "                                             PROJECT  STREET  \\\n",
      "0                                                NaN     NaN   \n",
      "1  Both Sides of 1200 Block of W 75th Avenue From...     NaN   \n",
      "2     W. Georgia Street Renewal - Cambie to Richards     NaN   \n",
      "3  Granville Bridge Deck and Below Bridge Deck on...     NaN   \n",
      "4                                                NaN     NaN   \n",
      "\n",
      "                                            LOCATION   COMP_DATE  \\\n",
      "0                                                NaN  2025-06-16   \n",
      "1  Both Sides of 1200 Block of W 75th Avenue From...  2025-08-08   \n",
      "2     W. Georgia Street Renewal - Cambie to Richards  2025-07-01   \n",
      "3  Granville Bridge Deck and Below Bridge Deck on...  2026-02-01   \n",
      "4                                                NaN  2025-08-16   \n",
      "\n",
      "                                            URL_LINK  \\\n",
      "0  http://vanmapp1.vancouver.ca/roadahead/events/...   \n",
      "1  http://vanmapp1.vancouver.ca/roadahead/events/...   \n",
      "2  http://vanmapp1.vancouver.ca/roadahead/events/...   \n",
      "3  http://vanmapp1.vancouver.ca/roadahead/events/...   \n",
      "4  http://vanmapp1.vancouver.ca/roadahead/events/...   \n",
      "\n",
      "                             geo_point_2d  \n",
      "0   49.2667749953324, -123.04566614485972  \n",
      "1   49.20181665976636, -123.1347973304666  \n",
      "2  49.28028180164426, -123.11470169321021  \n",
      "3  49.26997010206673, -123.13707745058754  \n",
      "4  49.21550250843071, -123.07724051498045  \n"
     ]
    },
    {
     "data": {
      "text/plain": [
       "Geom             0\n",
       "PROJECT          3\n",
       "STREET          32\n",
       "LOCATION         3\n",
       "COMP_DATE        0\n",
       "URL_LINK         0\n",
       "geo_point_2d     0\n",
       "dtype: int64"
      ]
     },
     "execution_count": 40,
     "metadata": {},
     "output_type": "execute_result"
    }
   ],
   "source": [
    "df_construction = pd.read_csv('datasets/roads-under-construction.csv', delimiter = ';', on_bad_lines='skip') \n",
    "print(f\"df_construction shape: {df_construction.shape}\")\n",
    "print(df_construction.head())\n",
    "df_construction.isna().sum() #removing na values results in an empty dataframe\n",
    "#df_construction = df_construction.dropna()\n",
    "#print(f\"df_construction shape after dropping NA values: {df_construction.shape}\")"
   ]
  },
  {
   "cell_type": "markdown",
   "id": "863487da",
   "metadata": {},
   "source": [
    "# Data Visualization"
   ]
  },
  {
   "cell_type": "code",
   "execution_count": 34,
   "id": "52fdcc7b",
   "metadata": {},
   "outputs": [],
   "source": [
    "import matplotlib.pyplot as plt\n",
    "import seaborn as sns\n"
   ]
  }
 ],
 "metadata": {
  "kernelspec": {
   "display_name": "venv",
   "language": "python",
   "name": "python3"
  },
  "language_info": {
   "codemirror_mode": {
    "name": "ipython",
    "version": 3
   },
   "file_extension": ".py",
   "mimetype": "text/x-python",
   "name": "python",
   "nbconvert_exporter": "python",
   "pygments_lexer": "ipython3",
   "version": "3.13.3"
  }
 },
 "nbformat": 4,
 "nbformat_minor": 5
}
